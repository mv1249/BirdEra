{
  "nbformat": 4,
  "nbformat_minor": 0,
  "metadata": {
    "colab": {
      "name": "birdsclassification.ipynb",
      "provenance": [],
      "collapsed_sections": []
    },
    "kernelspec": {
      "name": "python3",
      "display_name": "Python 3"
    },
    "accelerator": "GPU"
  },
  "cells": [
    {
      "cell_type": "code",
      "metadata": {
        "id": "9enyO7pSIwbo",
        "colab_type": "code",
        "colab": {}
      },
      "source": [
        "import pandas as pd\n",
        "import numpy as np\n",
        "import seaborn as sn\n",
        "import matplotlib.pyplot as plt\n",
        "from tensorflow.keras.layers import Conv2D,MaxPooling2D,Flatten,Dense\n",
        "from tensorflow.keras.models import Sequential\n",
        "from tensorflow.keras.preprocessing import image\n",
        "from tensorflow.keras.preprocessing.image import ImageDataGenerator,load_img\n",
        "from glob import glob\n",
        "import os "
      ],
      "execution_count": 66,
      "outputs": []
    },
    {
      "cell_type": "code",
      "metadata": {
        "id": "MrXWUAm2JufQ",
        "colab_type": "code",
        "colab": {
          "base_uri": "https://localhost:8080/",
          "height": 50
        },
        "outputId": "cc68737a-d5fd-4801-e476-1fa634699401"
      },
      "source": [
        "train_len = glob('/content/drive/My Drive/birddataset/Training/*')\n",
        "test_len = glob('/content/drive/My Drive/birddataset/Testing/*')\n",
        "print(f' length of train_set is {len(train_len)}\\n lenght of test_set is {len(test_len)}')"
      ],
      "execution_count": 67,
      "outputs": [
        {
          "output_type": "stream",
          "text": [
            " length of train_set is 150\n",
            " lenght of test_set is 150\n"
          ],
          "name": "stdout"
        }
      ]
    },
    {
      "cell_type": "markdown",
      "metadata": {
        "id": "ySz3Zn-EKBWB",
        "colab_type": "text"
      },
      "source": [
        "model = Sequential()\n",
        "\n",
        "model.add(Conv2D(64,(3,3),strides = (1,1),padding='same',activation='relu',input_shape = [224,224,3]))\n",
        "model.add(Conv2D(64,(3,3),strides = (1,1),padding='same',activation='relu'))\n",
        "model.add(MaxPooling2D(2,2))\n",
        "model.add(Conv2D(128,(3,3),strides = (1,1),padding='same',activation='relu'))\n",
        "model.add(Conv2D(128,(3,3),strides = (1,1),padding='same',activation='relu'))\n",
        "model.add(MaxPooling2D(2,2))\n",
        "model.add(Conv2D(256,(3,3),strides = (1,1),padding='same',activation='relu'))\n",
        "model.add(Conv2D(256,(3,3),strides = (1,1),padding='same',activation='relu'))\n",
        "model.add(MaxPooling2D(2,2))\n",
        "model.add(MaxPooling2D(2,2))\n",
        "model.add(Flatten())\n",
        "model.add(Dense(256,activation='relu'))\n",
        "model.add(Dense(256,activation = 'relu'))\n",
        "model.add(Dense(150,activation = 'softmax'))"
      ]
    },
    {
      "cell_type": "markdown",
      "metadata": {
        "id": "EjzuDd0GPyZu",
        "colab_type": "text"
      },
      "source": [
        "#### TRANSFER LEARNING APPROACH"
      ]
    },
    {
      "cell_type": "code",
      "metadata": {
        "id": "y4RdneEvP6UE",
        "colab_type": "code",
        "colab": {}
      },
      "source": [
        "from tensorflow.keras.applications import VGG16\n",
        "from tensorflow.keras.applications.vgg16 import preprocess_input"
      ],
      "execution_count": 68,
      "outputs": []
    },
    {
      "cell_type": "code",
      "metadata": {
        "id": "ZVK4avM6QK3t",
        "colab_type": "code",
        "colab": {}
      },
      "source": [
        "IMAGE_SIZE = [224,224]\n",
        "train_path = '/content/drive/My Drive/birddataset/Training'\n",
        "test_path = '/content/drive/My Drive/birddataset/Testing'"
      ],
      "execution_count": 69,
      "outputs": []
    },
    {
      "cell_type": "code",
      "metadata": {
        "id": "o0IGkloQQXnI",
        "colab_type": "code",
        "colab": {}
      },
      "source": [
        "vgg = VGG16(input_shape=IMAGE_SIZE + [3],weights='imagenet',include_top=False)\n",
        "for layer in vgg.layers:\n",
        "  layer.trainable = False"
      ],
      "execution_count": 70,
      "outputs": []
    },
    {
      "cell_type": "code",
      "metadata": {
        "id": "df7Kf6U4Qays",
        "colab_type": "code",
        "colab": {
          "base_uri": "https://localhost:8080/",
          "height": 786
        },
        "outputId": "67412854-6238-489f-fa0e-796daf30983d"
      },
      "source": [
        "vgg.summary()"
      ],
      "execution_count": 71,
      "outputs": [
        {
          "output_type": "stream",
          "text": [
            "Model: \"vgg16\"\n",
            "_________________________________________________________________\n",
            "Layer (type)                 Output Shape              Param #   \n",
            "=================================================================\n",
            "input_4 (InputLayer)         [(None, 224, 224, 3)]     0         \n",
            "_________________________________________________________________\n",
            "block1_conv1 (Conv2D)        (None, 224, 224, 64)      1792      \n",
            "_________________________________________________________________\n",
            "block1_conv2 (Conv2D)        (None, 224, 224, 64)      36928     \n",
            "_________________________________________________________________\n",
            "block1_pool (MaxPooling2D)   (None, 112, 112, 64)      0         \n",
            "_________________________________________________________________\n",
            "block2_conv1 (Conv2D)        (None, 112, 112, 128)     73856     \n",
            "_________________________________________________________________\n",
            "block2_conv2 (Conv2D)        (None, 112, 112, 128)     147584    \n",
            "_________________________________________________________________\n",
            "block2_pool (MaxPooling2D)   (None, 56, 56, 128)       0         \n",
            "_________________________________________________________________\n",
            "block3_conv1 (Conv2D)        (None, 56, 56, 256)       295168    \n",
            "_________________________________________________________________\n",
            "block3_conv2 (Conv2D)        (None, 56, 56, 256)       590080    \n",
            "_________________________________________________________________\n",
            "block3_conv3 (Conv2D)        (None, 56, 56, 256)       590080    \n",
            "_________________________________________________________________\n",
            "block3_pool (MaxPooling2D)   (None, 28, 28, 256)       0         \n",
            "_________________________________________________________________\n",
            "block4_conv1 (Conv2D)        (None, 28, 28, 512)       1180160   \n",
            "_________________________________________________________________\n",
            "block4_conv2 (Conv2D)        (None, 28, 28, 512)       2359808   \n",
            "_________________________________________________________________\n",
            "block4_conv3 (Conv2D)        (None, 28, 28, 512)       2359808   \n",
            "_________________________________________________________________\n",
            "block4_pool (MaxPooling2D)   (None, 14, 14, 512)       0         \n",
            "_________________________________________________________________\n",
            "block5_conv1 (Conv2D)        (None, 14, 14, 512)       2359808   \n",
            "_________________________________________________________________\n",
            "block5_conv2 (Conv2D)        (None, 14, 14, 512)       2359808   \n",
            "_________________________________________________________________\n",
            "block5_conv3 (Conv2D)        (None, 14, 14, 512)       2359808   \n",
            "_________________________________________________________________\n",
            "block5_pool (MaxPooling2D)   (None, 7, 7, 512)         0         \n",
            "=================================================================\n",
            "Total params: 14,714,688\n",
            "Trainable params: 0\n",
            "Non-trainable params: 14,714,688\n",
            "_________________________________________________________________\n"
          ],
          "name": "stdout"
        }
      ]
    },
    {
      "cell_type": "code",
      "metadata": {
        "id": "Q5P1EtbiQjP3",
        "colab_type": "code",
        "colab": {}
      },
      "source": [
        "x = Flatten()(vgg.output)"
      ],
      "execution_count": 72,
      "outputs": []
    },
    {
      "cell_type": "code",
      "metadata": {
        "id": "c8sxdPfeQwho",
        "colab_type": "code",
        "colab": {}
      },
      "source": [
        "from tensorflow.keras.models import Model"
      ],
      "execution_count": 73,
      "outputs": []
    },
    {
      "cell_type": "code",
      "metadata": {
        "id": "S8uku9P8QnxI",
        "colab_type": "code",
        "colab": {
          "base_uri": "https://localhost:8080/",
          "height": 853
        },
        "outputId": "836b8b15-8c3d-4113-a3b0-95440ce73caf"
      },
      "source": [
        "predict = Dense(len(train_len),activation='softmax')(x)\n",
        "model = Model(inputs = vgg.input,outputs = predict)\n",
        "model.summary()"
      ],
      "execution_count": 74,
      "outputs": [
        {
          "output_type": "stream",
          "text": [
            "Model: \"model_3\"\n",
            "_________________________________________________________________\n",
            "Layer (type)                 Output Shape              Param #   \n",
            "=================================================================\n",
            "input_4 (InputLayer)         [(None, 224, 224, 3)]     0         \n",
            "_________________________________________________________________\n",
            "block1_conv1 (Conv2D)        (None, 224, 224, 64)      1792      \n",
            "_________________________________________________________________\n",
            "block1_conv2 (Conv2D)        (None, 224, 224, 64)      36928     \n",
            "_________________________________________________________________\n",
            "block1_pool (MaxPooling2D)   (None, 112, 112, 64)      0         \n",
            "_________________________________________________________________\n",
            "block2_conv1 (Conv2D)        (None, 112, 112, 128)     73856     \n",
            "_________________________________________________________________\n",
            "block2_conv2 (Conv2D)        (None, 112, 112, 128)     147584    \n",
            "_________________________________________________________________\n",
            "block2_pool (MaxPooling2D)   (None, 56, 56, 128)       0         \n",
            "_________________________________________________________________\n",
            "block3_conv1 (Conv2D)        (None, 56, 56, 256)       295168    \n",
            "_________________________________________________________________\n",
            "block3_conv2 (Conv2D)        (None, 56, 56, 256)       590080    \n",
            "_________________________________________________________________\n",
            "block3_conv3 (Conv2D)        (None, 56, 56, 256)       590080    \n",
            "_________________________________________________________________\n",
            "block3_pool (MaxPooling2D)   (None, 28, 28, 256)       0         \n",
            "_________________________________________________________________\n",
            "block4_conv1 (Conv2D)        (None, 28, 28, 512)       1180160   \n",
            "_________________________________________________________________\n",
            "block4_conv2 (Conv2D)        (None, 28, 28, 512)       2359808   \n",
            "_________________________________________________________________\n",
            "block4_conv3 (Conv2D)        (None, 28, 28, 512)       2359808   \n",
            "_________________________________________________________________\n",
            "block4_pool (MaxPooling2D)   (None, 14, 14, 512)       0         \n",
            "_________________________________________________________________\n",
            "block5_conv1 (Conv2D)        (None, 14, 14, 512)       2359808   \n",
            "_________________________________________________________________\n",
            "block5_conv2 (Conv2D)        (None, 14, 14, 512)       2359808   \n",
            "_________________________________________________________________\n",
            "block5_conv3 (Conv2D)        (None, 14, 14, 512)       2359808   \n",
            "_________________________________________________________________\n",
            "block5_pool (MaxPooling2D)   (None, 7, 7, 512)         0         \n",
            "_________________________________________________________________\n",
            "flatten_8 (Flatten)          (None, 25088)             0         \n",
            "_________________________________________________________________\n",
            "dense_15 (Dense)             (None, 150)               3763350   \n",
            "=================================================================\n",
            "Total params: 18,478,038\n",
            "Trainable params: 3,763,350\n",
            "Non-trainable params: 14,714,688\n",
            "_________________________________________________________________\n"
          ],
          "name": "stdout"
        }
      ]
    },
    {
      "cell_type": "code",
      "metadata": {
        "id": "tOydVQqUL1TV",
        "colab_type": "code",
        "colab": {}
      },
      "source": [
        "model.compile(optimizer='adam',loss = 'categorical_crossentropy',metrics=['accuracy'])\n"
      ],
      "execution_count": 75,
      "outputs": []
    },
    {
      "cell_type": "code",
      "metadata": {
        "id": "tjJiycRfMFGp",
        "colab_type": "code",
        "colab": {}
      },
      "source": [
        "train_datagen = ImageDataGenerator(rescale=1./255,\n",
        "                                   zoom_range = 0.2,\n",
        "                                   shear_range = 0.2,\n",
        "                                   horizontal_flip = True)\n",
        "test_datagen  = ImageDataGenerator(rescale=1./255)\n"
      ],
      "execution_count": 76,
      "outputs": []
    },
    {
      "cell_type": "code",
      "metadata": {
        "id": "mi2tNIHUMg4j",
        "colab_type": "code",
        "colab": {
          "base_uri": "https://localhost:8080/",
          "height": 50
        },
        "outputId": "7341dcd8-77ce-48eb-a260-1b46daa18071"
      },
      "source": [
        "training_set = train_datagen.flow_from_directory('/content/drive/My Drive/birddataset/Training',\n",
        "                                                 target_size = (224,224),\n",
        "                                                 batch_size = 32,\n",
        "                                                 class_mode = 'categorical')\n",
        "testing_set = test_datagen.flow_from_directory('/content/drive/My Drive/birddataset/Testing',\n",
        "                                                 target_size = (224,224),\n",
        "                                                 batch_size = 32,\n",
        "                                                 class_mode = 'categorical')\n"
      ],
      "execution_count": 77,
      "outputs": [
        {
          "output_type": "stream",
          "text": [
            "Found 6205 images belonging to 150 classes.\n",
            "Found 354 images belonging to 150 classes.\n"
          ],
          "name": "stdout"
        }
      ]
    },
    {
      "cell_type": "code",
      "metadata": {
        "id": "BQ-XqoOAM3Nu",
        "colab_type": "code",
        "colab": {
          "base_uri": "https://localhost:8080/",
          "height": 1000
        },
        "outputId": "f2ce672a-6bda-4841-e114-1d98c04e8549"
      },
      "source": [
        "r = model.fit_generator(training_set,\n",
        "                        steps_per_epoch = len(training_set), \n",
        "                        epochs = 100,\n",
        "                        validation_data = testing_set,\n",
        "                        validation_steps = len(testing_set))"
      ],
      "execution_count": 84,
      "outputs": [
        {
          "output_type": "stream",
          "text": [
            "Epoch 1/100\n",
            "194/194 [==============================] - 79s 407ms/step - loss: 0.1316 - accuracy: 0.9810 - val_loss: 3.6871 - val_accuracy: 0.7401\n",
            "Epoch 2/100\n",
            "194/194 [==============================] - 79s 409ms/step - loss: 0.1440 - accuracy: 0.9784 - val_loss: 3.3807 - val_accuracy: 0.7345\n",
            "Epoch 3/100\n",
            "194/194 [==============================] - 79s 407ms/step - loss: 0.1995 - accuracy: 0.9700 - val_loss: 4.1172 - val_accuracy: 0.7429\n",
            "Epoch 4/100\n",
            "194/194 [==============================] - 79s 406ms/step - loss: 0.1531 - accuracy: 0.9712 - val_loss: 3.9737 - val_accuracy: 0.7175\n",
            "Epoch 5/100\n",
            "194/194 [==============================] - 79s 406ms/step - loss: 0.1096 - accuracy: 0.9811 - val_loss: 3.2169 - val_accuracy: 0.7627\n",
            "Epoch 6/100\n",
            "194/194 [==============================] - 79s 409ms/step - loss: 0.1217 - accuracy: 0.9807 - val_loss: 3.8877 - val_accuracy: 0.7458\n",
            "Epoch 7/100\n",
            "194/194 [==============================] - 79s 409ms/step - loss: 0.1233 - accuracy: 0.9821 - val_loss: 3.3807 - val_accuracy: 0.7401\n",
            "Epoch 8/100\n",
            "194/194 [==============================] - 79s 408ms/step - loss: 0.0817 - accuracy: 0.9861 - val_loss: 2.8957 - val_accuracy: 0.7627\n",
            "Epoch 9/100\n",
            "194/194 [==============================] - 79s 409ms/step - loss: 0.0828 - accuracy: 0.9878 - val_loss: 3.9375 - val_accuracy: 0.7401\n",
            "Epoch 10/100\n",
            "194/194 [==============================] - 81s 418ms/step - loss: 0.0407 - accuracy: 0.9924 - val_loss: 3.4782 - val_accuracy: 0.7655\n",
            "Epoch 11/100\n",
            "194/194 [==============================] - 80s 410ms/step - loss: 0.0799 - accuracy: 0.9865 - val_loss: 3.2456 - val_accuracy: 0.7627\n",
            "Epoch 12/100\n",
            "194/194 [==============================] - 79s 409ms/step - loss: 0.1141 - accuracy: 0.9800 - val_loss: 4.0918 - val_accuracy: 0.7316\n",
            "Epoch 13/100\n",
            "194/194 [==============================] - 79s 409ms/step - loss: 0.1144 - accuracy: 0.9807 - val_loss: 3.7192 - val_accuracy: 0.7571\n",
            "Epoch 14/100\n",
            "194/194 [==============================] - 79s 408ms/step - loss: 0.0908 - accuracy: 0.9868 - val_loss: 3.5366 - val_accuracy: 0.7514\n",
            "Epoch 15/100\n",
            "194/194 [==============================] - 79s 407ms/step - loss: 0.1074 - accuracy: 0.9832 - val_loss: 3.8108 - val_accuracy: 0.7232\n",
            "Epoch 16/100\n",
            "194/194 [==============================] - 79s 407ms/step - loss: 0.1321 - accuracy: 0.9787 - val_loss: 3.8842 - val_accuracy: 0.7316\n",
            "Epoch 17/100\n",
            "194/194 [==============================] - 80s 411ms/step - loss: 0.1090 - accuracy: 0.9832 - val_loss: 3.9915 - val_accuracy: 0.7147\n",
            "Epoch 18/100\n",
            "194/194 [==============================] - 79s 406ms/step - loss: 0.0879 - accuracy: 0.9876 - val_loss: 4.4293 - val_accuracy: 0.7119\n",
            "Epoch 19/100\n",
            "194/194 [==============================] - 79s 406ms/step - loss: 0.1802 - accuracy: 0.9760 - val_loss: 3.3652 - val_accuracy: 0.7740\n",
            "Epoch 20/100\n",
            "194/194 [==============================] - 79s 407ms/step - loss: 0.1574 - accuracy: 0.9786 - val_loss: 3.6530 - val_accuracy: 0.7542\n",
            "Epoch 21/100\n",
            "194/194 [==============================] - 80s 410ms/step - loss: 0.1077 - accuracy: 0.9831 - val_loss: 3.6917 - val_accuracy: 0.7542\n",
            "Epoch 22/100\n",
            "194/194 [==============================] - 79s 407ms/step - loss: 0.1261 - accuracy: 0.9802 - val_loss: 3.6629 - val_accuracy: 0.7768\n",
            "Epoch 23/100\n",
            "194/194 [==============================] - 79s 408ms/step - loss: 0.1251 - accuracy: 0.9826 - val_loss: 4.1271 - val_accuracy: 0.7429\n",
            "Epoch 24/100\n",
            "194/194 [==============================] - 79s 409ms/step - loss: 0.1093 - accuracy: 0.9839 - val_loss: 4.2238 - val_accuracy: 0.7514\n",
            "Epoch 25/100\n",
            "194/194 [==============================] - 80s 411ms/step - loss: 0.0523 - accuracy: 0.9919 - val_loss: 3.1383 - val_accuracy: 0.7825\n",
            "Epoch 26/100\n",
            "194/194 [==============================] - 79s 407ms/step - loss: 0.0970 - accuracy: 0.9850 - val_loss: 3.4958 - val_accuracy: 0.7599\n",
            "Epoch 27/100\n",
            "194/194 [==============================] - 79s 408ms/step - loss: 0.1147 - accuracy: 0.9842 - val_loss: 3.3786 - val_accuracy: 0.7853\n",
            "Epoch 28/100\n",
            "194/194 [==============================] - 79s 407ms/step - loss: 0.0888 - accuracy: 0.9874 - val_loss: 4.0619 - val_accuracy: 0.7288\n",
            "Epoch 29/100\n",
            "194/194 [==============================] - 80s 410ms/step - loss: 0.1287 - accuracy: 0.9811 - val_loss: 3.8679 - val_accuracy: 0.7740\n",
            "Epoch 30/100\n",
            "194/194 [==============================] - 79s 406ms/step - loss: 0.1119 - accuracy: 0.9823 - val_loss: 4.3148 - val_accuracy: 0.7486\n",
            "Epoch 31/100\n",
            "194/194 [==============================] - 79s 406ms/step - loss: 0.1006 - accuracy: 0.9853 - val_loss: 3.7588 - val_accuracy: 0.7571\n",
            "Epoch 32/100\n",
            "194/194 [==============================] - 79s 407ms/step - loss: 0.0988 - accuracy: 0.9850 - val_loss: 3.6007 - val_accuracy: 0.7627\n",
            "Epoch 33/100\n",
            "194/194 [==============================] - 80s 412ms/step - loss: 0.0761 - accuracy: 0.9871 - val_loss: 3.4938 - val_accuracy: 0.7825\n",
            "Epoch 34/100\n",
            "194/194 [==============================] - 79s 409ms/step - loss: 0.0582 - accuracy: 0.9905 - val_loss: 4.0423 - val_accuracy: 0.7627\n",
            "Epoch 35/100\n",
            "194/194 [==============================] - 79s 408ms/step - loss: 0.0622 - accuracy: 0.9890 - val_loss: 3.3118 - val_accuracy: 0.7797\n",
            "Epoch 36/100\n",
            "194/194 [==============================] - 79s 409ms/step - loss: 0.0852 - accuracy: 0.9863 - val_loss: 4.3026 - val_accuracy: 0.7514\n",
            "Epoch 37/100\n",
            "194/194 [==============================] - 79s 409ms/step - loss: 0.1277 - accuracy: 0.9800 - val_loss: 4.5980 - val_accuracy: 0.7345\n",
            "Epoch 38/100\n",
            "194/194 [==============================] - 79s 407ms/step - loss: 0.1213 - accuracy: 0.9844 - val_loss: 4.3149 - val_accuracy: 0.7401\n",
            "Epoch 39/100\n",
            "194/194 [==============================] - 79s 407ms/step - loss: 0.0993 - accuracy: 0.9849 - val_loss: 3.6306 - val_accuracy: 0.7797\n",
            "Epoch 40/100\n",
            "194/194 [==============================] - 79s 407ms/step - loss: 0.1001 - accuracy: 0.9849 - val_loss: 4.1358 - val_accuracy: 0.7401\n",
            "Epoch 41/100\n",
            "194/194 [==============================] - 79s 409ms/step - loss: 0.0861 - accuracy: 0.9869 - val_loss: 3.7934 - val_accuracy: 0.7429\n",
            "Epoch 42/100\n",
            "194/194 [==============================] - 79s 407ms/step - loss: 0.0754 - accuracy: 0.9890 - val_loss: 3.6526 - val_accuracy: 0.7542\n",
            "Epoch 43/100\n",
            "194/194 [==============================] - 79s 406ms/step - loss: 0.1030 - accuracy: 0.9860 - val_loss: 4.0661 - val_accuracy: 0.7542\n",
            "Epoch 44/100\n",
            "194/194 [==============================] - 79s 407ms/step - loss: 0.0879 - accuracy: 0.9886 - val_loss: 3.8048 - val_accuracy: 0.7712\n",
            "Epoch 45/100\n",
            "194/194 [==============================] - 79s 409ms/step - loss: 0.0663 - accuracy: 0.9902 - val_loss: 3.6798 - val_accuracy: 0.7938\n",
            "Epoch 46/100\n",
            "194/194 [==============================] - 79s 406ms/step - loss: 0.0817 - accuracy: 0.9886 - val_loss: 4.4414 - val_accuracy: 0.7373\n",
            "Epoch 47/100\n",
            "194/194 [==============================] - 79s 406ms/step - loss: 0.0994 - accuracy: 0.9871 - val_loss: 3.7863 - val_accuracy: 0.7571\n",
            "Epoch 48/100\n",
            "194/194 [==============================] - 79s 406ms/step - loss: 0.0926 - accuracy: 0.9889 - val_loss: 3.6253 - val_accuracy: 0.7881\n",
            "Epoch 49/100\n",
            "194/194 [==============================] - 79s 408ms/step - loss: 0.0313 - accuracy: 0.9937 - val_loss: 4.1526 - val_accuracy: 0.7655\n",
            "Epoch 50/100\n",
            "194/194 [==============================] - 79s 406ms/step - loss: 0.0756 - accuracy: 0.9874 - val_loss: 3.8219 - val_accuracy: 0.7825\n",
            "Epoch 51/100\n",
            "194/194 [==============================] - 79s 406ms/step - loss: 0.0553 - accuracy: 0.9898 - val_loss: 4.5027 - val_accuracy: 0.7316\n",
            "Epoch 52/100\n",
            "194/194 [==============================] - 79s 407ms/step - loss: 0.0836 - accuracy: 0.9892 - val_loss: 5.3594 - val_accuracy: 0.7260\n",
            "Epoch 53/100\n",
            "194/194 [==============================] - 79s 408ms/step - loss: 0.0825 - accuracy: 0.9887 - val_loss: 4.4312 - val_accuracy: 0.7599\n",
            "Epoch 54/100\n",
            "194/194 [==============================] - 79s 407ms/step - loss: 0.0836 - accuracy: 0.9892 - val_loss: 4.7800 - val_accuracy: 0.7373\n",
            "Epoch 55/100\n",
            "194/194 [==============================] - 79s 406ms/step - loss: 0.1173 - accuracy: 0.9842 - val_loss: 4.6535 - val_accuracy: 0.7401\n",
            "Epoch 56/100\n",
            "194/194 [==============================] - 79s 408ms/step - loss: 0.0906 - accuracy: 0.9871 - val_loss: 3.9261 - val_accuracy: 0.7486\n",
            "Epoch 57/100\n",
            "194/194 [==============================] - 79s 407ms/step - loss: 0.0254 - accuracy: 0.9956 - val_loss: 3.6491 - val_accuracy: 0.7684\n",
            "Epoch 58/100\n",
            "194/194 [==============================] - 79s 407ms/step - loss: 0.0689 - accuracy: 0.9890 - val_loss: 4.0629 - val_accuracy: 0.7825\n",
            "Epoch 59/100\n",
            "194/194 [==============================] - 79s 407ms/step - loss: 0.0660 - accuracy: 0.9911 - val_loss: 3.8550 - val_accuracy: 0.7627\n",
            "Epoch 60/100\n",
            "194/194 [==============================] - 79s 408ms/step - loss: 0.1038 - accuracy: 0.9873 - val_loss: 4.0067 - val_accuracy: 0.7571\n",
            "Epoch 61/100\n",
            "194/194 [==============================] - 79s 407ms/step - loss: 0.0785 - accuracy: 0.9907 - val_loss: 3.7818 - val_accuracy: 0.7655\n",
            "Epoch 62/100\n",
            "194/194 [==============================] - 79s 406ms/step - loss: 0.0513 - accuracy: 0.9915 - val_loss: 3.3456 - val_accuracy: 0.7910\n",
            "Epoch 63/100\n",
            "194/194 [==============================] - 79s 406ms/step - loss: 0.0634 - accuracy: 0.9915 - val_loss: 3.6419 - val_accuracy: 0.7599\n",
            "Epoch 64/100\n",
            "194/194 [==============================] - 79s 407ms/step - loss: 0.0725 - accuracy: 0.9887 - val_loss: 3.9811 - val_accuracy: 0.7825\n",
            "Epoch 65/100\n",
            "194/194 [==============================] - 79s 405ms/step - loss: 0.0445 - accuracy: 0.9937 - val_loss: 4.1130 - val_accuracy: 0.7797\n",
            "Epoch 66/100\n",
            "194/194 [==============================] - 79s 406ms/step - loss: 0.0974 - accuracy: 0.9865 - val_loss: 3.8788 - val_accuracy: 0.7712\n",
            "Epoch 67/100\n",
            "194/194 [==============================] - 79s 406ms/step - loss: 0.1136 - accuracy: 0.9837 - val_loss: 3.9344 - val_accuracy: 0.7853\n",
            "Epoch 68/100\n",
            "194/194 [==============================] - 79s 408ms/step - loss: 0.0752 - accuracy: 0.9902 - val_loss: 5.0505 - val_accuracy: 0.7345\n",
            "Epoch 69/100\n",
            "194/194 [==============================] - 79s 406ms/step - loss: 0.0849 - accuracy: 0.9886 - val_loss: 4.8533 - val_accuracy: 0.7401\n",
            "Epoch 70/100\n",
            "194/194 [==============================] - 79s 406ms/step - loss: 0.0869 - accuracy: 0.9886 - val_loss: 4.2173 - val_accuracy: 0.7599\n",
            "Epoch 71/100\n",
            "194/194 [==============================] - 79s 407ms/step - loss: 0.1187 - accuracy: 0.9866 - val_loss: 5.0549 - val_accuracy: 0.7288\n",
            "Epoch 72/100\n",
            "194/194 [==============================] - 79s 408ms/step - loss: 0.0828 - accuracy: 0.9890 - val_loss: 4.4196 - val_accuracy: 0.7627\n",
            "Epoch 73/100\n",
            "194/194 [==============================] - 79s 405ms/step - loss: 0.0887 - accuracy: 0.9881 - val_loss: 3.9454 - val_accuracy: 0.7910\n",
            "Epoch 74/100\n",
            "194/194 [==============================] - 79s 405ms/step - loss: 0.1008 - accuracy: 0.9858 - val_loss: 4.5353 - val_accuracy: 0.7599\n",
            "Epoch 75/100\n",
            "194/194 [==============================] - 79s 407ms/step - loss: 0.0843 - accuracy: 0.9876 - val_loss: 4.7477 - val_accuracy: 0.7288\n",
            "Epoch 76/100\n",
            "194/194 [==============================] - 80s 410ms/step - loss: 0.0665 - accuracy: 0.9894 - val_loss: 4.5592 - val_accuracy: 0.7599\n",
            "Epoch 77/100\n",
            "194/194 [==============================] - 79s 408ms/step - loss: 0.0695 - accuracy: 0.9905 - val_loss: 4.2870 - val_accuracy: 0.7514\n",
            "Epoch 78/100\n",
            "194/194 [==============================] - 79s 408ms/step - loss: 0.0382 - accuracy: 0.9932 - val_loss: 3.7139 - val_accuracy: 0.7881\n",
            "Epoch 79/100\n",
            "194/194 [==============================] - 79s 407ms/step - loss: 0.0433 - accuracy: 0.9945 - val_loss: 4.3447 - val_accuracy: 0.7768\n",
            "Epoch 80/100\n",
            "194/194 [==============================] - 79s 408ms/step - loss: 0.0415 - accuracy: 0.9921 - val_loss: 4.0938 - val_accuracy: 0.7853\n",
            "Epoch 81/100\n",
            "194/194 [==============================] - 79s 407ms/step - loss: 0.0232 - accuracy: 0.9960 - val_loss: 3.8284 - val_accuracy: 0.7881\n",
            "Epoch 82/100\n",
            "194/194 [==============================] - 79s 407ms/step - loss: 0.0414 - accuracy: 0.9939 - val_loss: 3.8836 - val_accuracy: 0.7881\n",
            "Epoch 83/100\n",
            "194/194 [==============================] - 79s 407ms/step - loss: 0.0502 - accuracy: 0.9924 - val_loss: 4.7110 - val_accuracy: 0.7458\n",
            "Epoch 84/100\n",
            "194/194 [==============================] - 79s 408ms/step - loss: 0.1152 - accuracy: 0.9874 - val_loss: 4.2565 - val_accuracy: 0.7825\n",
            "Epoch 85/100\n",
            "194/194 [==============================] - 79s 405ms/step - loss: 0.1145 - accuracy: 0.9861 - val_loss: 4.0340 - val_accuracy: 0.7768\n",
            "Epoch 86/100\n",
            "194/194 [==============================] - 79s 407ms/step - loss: 0.1123 - accuracy: 0.9858 - val_loss: 4.1096 - val_accuracy: 0.7655\n",
            "Epoch 87/100\n",
            "194/194 [==============================] - 79s 405ms/step - loss: 0.1019 - accuracy: 0.9890 - val_loss: 4.5733 - val_accuracy: 0.7542\n",
            "Epoch 88/100\n",
            "194/194 [==============================] - 79s 409ms/step - loss: 0.0801 - accuracy: 0.9892 - val_loss: 4.1499 - val_accuracy: 0.7712\n",
            "Epoch 89/100\n",
            "194/194 [==============================] - 79s 407ms/step - loss: 0.0540 - accuracy: 0.9919 - val_loss: 4.3634 - val_accuracy: 0.7853\n",
            "Epoch 90/100\n",
            "194/194 [==============================] - 79s 408ms/step - loss: 0.0715 - accuracy: 0.9908 - val_loss: 4.0450 - val_accuracy: 0.7768\n",
            "Epoch 91/100\n",
            "194/194 [==============================] - 79s 407ms/step - loss: 0.0783 - accuracy: 0.9897 - val_loss: 3.4961 - val_accuracy: 0.7684\n",
            "Epoch 92/100\n",
            "194/194 [==============================] - 79s 409ms/step - loss: 0.0474 - accuracy: 0.9913 - val_loss: 3.6310 - val_accuracy: 0.7797\n",
            "Epoch 93/100\n",
            "194/194 [==============================] - 79s 407ms/step - loss: 0.0530 - accuracy: 0.9918 - val_loss: 4.0451 - val_accuracy: 0.7825\n",
            "Epoch 94/100\n",
            "194/194 [==============================] - 79s 409ms/step - loss: 0.0551 - accuracy: 0.9916 - val_loss: 4.3628 - val_accuracy: 0.7740\n",
            "Epoch 95/100\n",
            "194/194 [==============================] - 79s 408ms/step - loss: 0.0617 - accuracy: 0.9929 - val_loss: 4.2721 - val_accuracy: 0.7740\n",
            "Epoch 96/100\n",
            "194/194 [==============================] - 79s 409ms/step - loss: 0.0701 - accuracy: 0.9916 - val_loss: 3.9226 - val_accuracy: 0.7740\n",
            "Epoch 97/100\n",
            "194/194 [==============================] - 79s 407ms/step - loss: 0.0674 - accuracy: 0.9921 - val_loss: 3.9042 - val_accuracy: 0.7881\n",
            "Epoch 98/100\n",
            "194/194 [==============================] - 79s 408ms/step - loss: 0.0582 - accuracy: 0.9931 - val_loss: 4.1059 - val_accuracy: 0.7514\n",
            "Epoch 99/100\n",
            "194/194 [==============================] - 79s 409ms/step - loss: 0.0725 - accuracy: 0.9908 - val_loss: 4.5070 - val_accuracy: 0.7684\n",
            "Epoch 100/100\n",
            "194/194 [==============================] - 79s 407ms/step - loss: 0.0662 - accuracy: 0.9918 - val_loss: 4.2015 - val_accuracy: 0.7938\n"
          ],
          "name": "stdout"
        }
      ]
    },
    {
      "cell_type": "code",
      "metadata": {
        "id": "P9VTnqA_NLrj",
        "colab_type": "code",
        "colab": {
          "base_uri": "https://localhost:8080/",
          "height": 265
        },
        "outputId": "7dd6c8d4-2f43-4093-e04a-755dc1e418f4"
      },
      "source": [
        "plt.plot(r.history['loss'],label = 'loss',color = 'magenta')\n",
        "plt.plot(r.history['val_loss'],label = 'validation_loss',color = 'red')\n",
        "plt.legend()\n",
        "plt.show()"
      ],
      "execution_count": 82,
      "outputs": [
        {
          "output_type": "display_data",
          "data": {
            "image/png": "[encoded data removed]",
            "text/plain": [
              "<Figure size 432x288 with 1 Axes>"
            ]
          },
          "metadata": {
            "tags": [],
            "needs_background": "light"
          }
        }
      ]
    },
    {
      "cell_type": "code",
      "metadata": {
        "id": "mN7oHeo922xt",
        "colab_type": "code",
        "colab": {
          "base_uri": "https://localhost:8080/",
          "height": 269
        },
        "outputId": "9ba4ebcf-29dd-4c2b-9f48-df56524dff20"
      },
      "source": [
        "plt.plot(r.history['accuracy'],label = 'accuracy',color = 'magenta')\n",
        "plt.plot(r.history['val_accuracy'],label = 'validation_accuracy',color = 'red')\n",
        "plt.legend()\n",
        "plt.show()"
      ],
      "execution_count": 83,
      "outputs": [
        {
          "output_type": "display_data",
          "data": {
            "image/png": "[encoded data removed]",
            "text/plain": [
              "<Figure size 432x288 with 1 Axes>"
            ]
          },
          "metadata": {
            "tags": [],
            "needs_background": "light"
          }
        }
      ]
    },
    {
      "cell_type": "code",
      "metadata": {
        "id": "1j78OaJpWYMy",
        "colab_type": "code",
        "colab": {
          "base_uri": "https://localhost:8080/",
          "height": 1000
        },
        "outputId": "4f228245-82c0-4880-bce4-db2b2121518b"
      },
      "source": [
        "list = os.listdir('/content/drive/My Drive/birddataset/Training')\n",
        "list"
      ],
      "execution_count": 88,
      "outputs": [
        {
          "output_type": "execute_result",
          "data": {
            "text/plain": [
              "['PAINTED BUNTIG',\n",
              " 'PALILA',\n",
              " 'PELICAN',\n",
              " 'OSTRICH',\n",
              " 'PHILIPPINE EAGLE',\n",
              " 'PARUS MAJOR',\n",
              " 'PINK ROBIN',\n",
              " 'PARADISE TANAGER',\n",
              " 'PEREGRINE FALCON',\n",
              " 'PEACOCK',\n",
              " 'NORTHERN JACANA',\n",
              " 'NORTHERN PARULA',\n",
              " 'NORTHERN RED BISHOP',\n",
              " 'NORTHERN MOCKINGBIRD',\n",
              " 'NORTHERN GOSHAWK',\n",
              " 'OCELLATED TURKEY',\n",
              " 'NORTHERN GANNET',\n",
              " 'OSPREY',\n",
              " 'NORTHERN CARDINAL',\n",
              " 'NORTHERN FLICKER',\n",
              " 'NICOBAR PIGEON',\n",
              " 'MOURNING DOVE',\n",
              " 'MIKADO  PHEASANT',\n",
              " 'MARABOU STORK',\n",
              " 'MALEO',\n",
              " 'MALACHITE KINGFISHER',\n",
              " 'MYNA',\n",
              " 'MANDRIN DUCK',\n",
              " 'MALLARD DUCK',\n",
              " 'MASKED BOOBY',\n",
              " 'LEARS MACAW',\n",
              " 'LONG-EARED OWL',\n",
              " 'KILLDEAR',\n",
              " 'KIWI',\n",
              " 'LILAC ROLLER',\n",
              " 'LARK BUNTING',\n",
              " 'KAKAPO',\n",
              " 'JAVAN MAGPIE',\n",
              " 'KING VULTURE',\n",
              " 'JABIRU',\n",
              " 'HORNED GUAN',\n",
              " 'INDIAN BUSTARD',\n",
              " 'IMPERIAL SHAQ',\n",
              " 'HOOPOES',\n",
              " 'INCA TERN',\n",
              " 'INDIGO BUNTING',\n",
              " 'HORNBILL',\n",
              " 'HOUSE SPARROW',\n",
              " 'HOUSE FINCH',\n",
              " 'HYACINTH MACAW',\n",
              " 'HARPY EAGLE',\n",
              " 'GREY PLOVER',\n",
              " 'GRAY PARTRIDGE',\n",
              " 'GOLDEN PHEASANT',\n",
              " 'GOULDIAN FINCH',\n",
              " 'HOODED MERGANSER',\n",
              " 'GREEN JAY',\n",
              " 'HAWAIIAN GOOSE',\n",
              " 'GUINEAFOWL',\n",
              " 'GRAY CATBIRD',\n",
              " 'GOLDEN CHLOROPHONIA',\n",
              " 'GOLDEN CHEEKED WARBLER',\n",
              " 'GOLD WING WARBLER',\n",
              " 'GILA WOODPECKER',\n",
              " 'FLAME TANAGER',\n",
              " 'FLAMINGO',\n",
              " 'GOLDEN EAGLE',\n",
              " 'FRIGATE',\n",
              " 'GILDED FLICKER',\n",
              " 'GLOSSY IBIS',\n",
              " 'EMPEROR PENGUIN',\n",
              " 'EURASIAN MAGPIE',\n",
              " 'EVENING GROSBEAK',\n",
              " 'EASTERN TOWEE',\n",
              " 'ELEGANT TROGON',\n",
              " 'EASTERN MEADOWLARK',\n",
              " 'EASTERN BLUEBIRD',\n",
              " 'ELLIOTS  PHEASANT',\n",
              " 'EMU',\n",
              " 'EASTERN ROSELLA',\n",
              " 'CRESTED CARACARA',\n",
              " 'COUCHS KINGBIRD',\n",
              " 'CUBAN TODY',\n",
              " 'CROWNED PIGEON',\n",
              " 'DARK EYED JUNCO',\n",
              " 'D-ARNAUDS BARBET',\n",
              " 'CROW',\n",
              " 'CRESTED AUKLET',\n",
              " 'CURL CRESTED ARACURI',\n",
              " 'DOWNY WOODPECKER',\n",
              " 'COCK OF THE  ROCK',\n",
              " 'CHARA DE COLLAR',\n",
              " 'COMMON STARLING',\n",
              " 'COCKATOO',\n",
              " 'CINNAMON TEAL',\n",
              " 'COMMON POORWILL',\n",
              " 'CHIPPING SPARROW',\n",
              " 'COMMON HOUSE MARTIN',\n",
              " 'COMMON LOON',\n",
              " 'COMMON GRACKLE',\n",
              " 'CAPE MAY WARBLER',\n",
              " 'CAPUCHINBIRD',\n",
              " 'CARMINE BEE-EATER',\n",
              " 'CALIFORNIA CONDOR',\n",
              " 'CANARY',\n",
              " 'CASPIAN TERN',\n",
              " 'CALIFORNIA QUAIL',\n",
              " 'CACTUS WREN',\n",
              " 'CALIFORNIA GULL',\n",
              " 'CASSOWARY',\n",
              " 'BLACKBURNIAM WARBLER',\n",
              " 'BLACK VULTURE',\n",
              " 'BLACK-NECKED GREBE',\n",
              " 'BOBOLINK',\n",
              " 'BLACK-THROATED SPARROW',\n",
              " 'BROWN NOODY',\n",
              " 'BLACK-CAPPED CHICKADEE',\n",
              " 'BLUE GROUSE',\n",
              " 'BLUE HERON',\n",
              " 'BROWN THRASHER',\n",
              " 'BEARDED BARBET',\n",
              " 'BLACK SWAN',\n",
              " 'BIRD OF PARADISE',\n",
              " 'BELTED KINGFISHER',\n",
              " 'BAY-BREASTED WARBLER',\n",
              " 'BARN OWL',\n",
              " 'BARN SWALLOW',\n",
              " 'BLACK THROATED WARBLER',\n",
              " 'BLACK FRANCOLIN',\n",
              " 'BLACK SKIMMER',\n",
              " 'BALI STARLING',\n",
              " 'BALTIMORE ORIOLE',\n",
              " 'ANTBIRD',\n",
              " 'ARARIPE MANAKIN',\n",
              " 'BANANAQUIT',\n",
              " 'ANNAS HUMMINGBIRD',\n",
              " 'ANHINGA',\n",
              " 'BAR-TAILED GODWIT',\n",
              " 'ASIAN CRESTED IBIS',\n",
              " 'BALD EAGLE',\n",
              " 'AMERICAN KESTREL',\n",
              " 'AFRICAN FIREFINCH',\n",
              " 'ALBATROSS',\n",
              " 'AMERICAN BITTERN',\n",
              " 'AMERICAN AVOCET',\n",
              " 'AMERICAN GOLDFINCH',\n",
              " 'AMERICAN COOT',\n",
              " 'AMERICAN PIPIT',\n",
              " 'AMERICAN REDSTART',\n",
              " 'ALEXANDRINE PARAKEET']"
            ]
          },
          "metadata": {
            "tags": []
          },
          "execution_count": 88
        }
      ]
    },
    {
      "cell_type": "code",
      "metadata": {
        "id": "7F_QNBOG2_RM",
        "colab_type": "code",
        "colab": {}
      },
      "source": [
        "test_image = load_img('/content/drive/My Drive/birddataset/Testing/AMERICAN KESTREL/5.jpg',(224,224))\n",
        "test_image = image.img_to_array(test_image)\n",
        "predict = np.expand_dims(test_image,axis = 0)\n",
        "result = model.predict(predict)"
      ],
      "execution_count": 105,
      "outputs": []
    },
    {
      "cell_type": "code",
      "metadata": {
        "id": "Tdh9rdAoWyzZ",
        "colab_type": "code",
        "colab": {
          "base_uri": "https://localhost:8080/",
          "height": 184
        },
        "outputId": "33e5ed1a-a1a7-4dae-e060-b559f33c6436"
      },
      "source": [
        "result"
      ],
      "execution_count": 106,
      "outputs": [
        {
          "output_type": "execute_result",
          "data": {
            "text/plain": [
              "array([[0., 0., 0., 0., 0., 0., 0., 1., 0., 0., 0., 0., 0., 0., 0., 0.,\n",
              "        0., 0., 0., 0., 0., 0., 0., 0., 0., 0., 0., 0., 0., 0., 0., 0.,\n",
              "        0., 0., 0., 0., 0., 0., 0., 0., 0., 0., 0., 0., 0., 0., 0., 0.,\n",
              "        0., 0., 0., 0., 0., 0., 0., 0., 0., 0., 0., 0., 0., 0., 0., 0.,\n",
              "        0., 0., 0., 0., 0., 0., 0., 0., 0., 0., 0., 0., 0., 0., 0., 0.,\n",
              "        0., 0., 0., 0., 0., 0., 0., 0., 0., 0., 0., 0., 0., 0., 0., 0.,\n",
              "        0., 0., 0., 0., 0., 0., 0., 0., 0., 0., 0., 0., 0., 0., 0., 0.,\n",
              "        0., 0., 0., 0., 0., 0., 0., 0., 0., 0., 0., 0., 0., 0., 0., 0.,\n",
              "        0., 0., 0., 0., 0., 0., 0., 0., 0., 0., 0., 0., 0., 0., 0., 0.,\n",
              "        0., 0., 0., 0., 0., 0.]], dtype=float32)"
            ]
          },
          "metadata": {
            "tags": []
          },
          "execution_count": 106
        }
      ]
    },
    {
      "cell_type": "code",
      "metadata": {
        "id": "cOicW3unXNl9",
        "colab_type": "code",
        "colab": {
          "base_uri": "https://localhost:8080/",
          "height": 33
        },
        "outputId": "c7bea330-aebc-4103-9d5b-d1fbc7940b9f"
      },
      "source": [
        "if result[0][0] == 1:\n",
        "    predict = 'FIREFINCH'\n",
        "    print(predict)\n",
        "elif result[0][1] == 1:\n",
        "  predict = 'ALBATROSS'\n",
        "  print(predict)\n",
        "elif result[0][2] == 1:\n",
        "  predict = 'ALEXEDRINE'\n",
        "  print(predict)\n",
        "elif result[0][3] == 1:\n",
        "  print(\"AVOCET\")\n",
        "elif result[0][4] == 1:\n",
        "  print(\"BITTERN\")\n",
        "elif result[0][5] == 1:\n",
        "  print(\"COOT\")\n",
        "elif result[0][6] == 1:\n",
        "  print(\"GOLDFINCH\")\n",
        "elif result[0][7] == 1:\n",
        "  print(\"KESTREL\")\n"
      ],
      "execution_count": 107,
      "outputs": [
        {
          "output_type": "stream",
          "text": [
            "KESTREL\n"
          ],
          "name": "stdout"
        }
      ]
    },
    {
      "cell_type": "code",
      "metadata": {
        "id": "MnMIA0EXXjhg",
        "colab_type": "code",
        "colab": {}
      },
      "source": [
        "model.save('birdsclassi.h5')"
      ],
      "execution_count": 108,
      "outputs": []
    },
    {
      "cell_type": "code",
      "metadata": {
        "id": "mq0LTeW1YIi0",
        "colab_type": "code",
        "colab": {}
      },
      "source": [
        ""
      ],
      "execution_count": null,
      "outputs": []
    }
  ]
}